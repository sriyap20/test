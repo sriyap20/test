{
  "metadata": {
    "kernelspec": {
      "name": "python",
      "display_name": "Python (Pyodide)",
      "language": "python"
    },
    "language_info": {
      "codemirror_mode": {
        "name": "python",
        "version": 3
      },
      "file_extension": ".py",
      "mimetype": "text/x-python",
      "name": "python",
      "nbconvert_exporter": "python",
      "pygments_lexer": "ipython3",
      "version": "3.8"
    }
  },
  "nbformat_minor": 5,
  "nbformat": 4,
  "cells": [
    {
      "id": "0e1bd41a-6f3d-4c2c-bdd2-8429fcf090e0",
      "cell_type": "markdown",
      "source": "<h1>Data Science Tools and Ecosystem",
      "metadata": {}
    },
    {
      "id": "16ec0627-056c-4e97-b81b-ba5d0a718d8c",
      "cell_type": "markdown",
      "source": "In this notebook, Data Science Tools and Ecosystem are summarized.\n\n",
      "metadata": {}
    },
    {
      "id": "0a716cf4-d5b7-45ad-a26b-a442a8b702a4",
      "cell_type": "markdown",
      "source": "Objectives:\n\nList popular languages that Data Scientists use.\nList commonly used libraries used by Data Scientists.\nComment on Data Science tools.",
      "metadata": {}
    },
    {
      "id": "f77a530b-11cf-4696-b200-c773177cbd8f",
      "cell_type": "markdown",
      "source": "Some of the popular languages that Data Scientists use are:\n",
      "metadata": {}
    },
    {
      "id": "a3e7e39b-b25b-4f50-9643-b8a011d6cb95",
      "cell_type": "markdown",
      "source": "1. Python.\n2. R.\n3. SQL.\n4. Java.\n5. Julia.\n6. Scala.\n7. C/C++.\n8. JavaScript.",
      "metadata": {}
    },
    {
      "id": "33dfb995-88de-4070-8fe5-ca705be65b9d",
      "cell_type": "markdown",
      "source": "Some of the commonly used libraries used by Data Scientists include:\n1. TensorFlow\n2. NumPy\n3. SciPy\n4. Pandas\n5. Matplotlib\n6. Keras\n7. SciKit-Learn\n8. PyTorch\n9. Scrapy\n10. BeautifulSoup\n11. LightGBM\n12. ELI5\n13. Theano\n14. NuPIC\n15. Ramp\n16. Pipenv\n17. Bob\n18. PyBrain\n19. Caffe2\n20. Chainer",
      "metadata": {
        "jupyter": {
          "source_hidden": true
        }
      }
    },
    {
      "id": "b326065e-a3d3-4ba3-bdb2-5e2948fea4d5",
      "cell_type": "markdown",
      "source": "Data Science Tools:\n\nSAS. It is one of those data science tools which are specifically designed for statistical operation\t\t\nApache Spark\t\t\nBigML",
      "metadata": {}
    },
    {
      "id": "849a0bf7-69ab-4116-ae7a-be046f70edff",
      "cell_type": "code",
      "source": "# Arithmetic operations\ncode = compile(\"5 + 4\", \"<string>\", \"eval\")\neval(code)\n# Result: 9",
      "metadata": {
        "trusted": true
      },
      "outputs": [
        {
          "execution_count": 2,
          "output_type": "execute_result",
          "data": {
            "text/plain": "9"
          },
          "metadata": {}
        }
      ],
      "execution_count": 2
    },
    {
      "id": "aa88fdc4-8048-4897-b755-aa9706785c3e",
      "cell_type": "code",
      "source": "(3*4)+5\n# Result: 17",
      "metadata": {
        "trusted": true
      },
      "outputs": [
        {
          "execution_count": 3,
          "output_type": "execute_result",
          "data": {
            "text/plain": "17"
          },
          "metadata": {}
        }
      ],
      "execution_count": 3
    },
    {
      "id": "5b39b4ce-8d2c-434c-a859-f746876b3ed2",
      "cell_type": "code",
      "source": "days = 0\nhours = 0\nmins = 0\n\ntime = 200\n#days = time / 1440\nleftover_minutes = time % 1440\nhours = leftover_minutes / 60\n#mins = time - (days*1440) - (hours*60)\nprint(str(days) + \" days, \" + str(hours) + \" hours, \" + str(mins) +  \" mins. \")\n",
      "metadata": {
        "trusted": true
      },
      "outputs": [
        {
          "name": "stdout",
          "output_type": "stream",
          "text": "0 days, 3.3333333333333335 hours, 0 mins. \n"
        }
      ],
      "execution_count": 4
    },
    {
      "id": "bf4e6aaa-4e30-45a1-9c55-9a3116a32b78",
      "cell_type": "markdown",
      "source": "<h1>Sriya Prathuri",
      "metadata": {}
    },
    {
      "id": "35ed4a2f-fc5d-4b9e-8e53-045e56943d13",
      "cell_type": "code",
      "source": "",
      "metadata": {
        "trusted": true
      },
      "outputs": [],
      "execution_count": null
    }
  ]
}